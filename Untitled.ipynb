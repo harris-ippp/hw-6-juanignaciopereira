{
 "cells": [
  {
   "cell_type": "code",
   "execution_count": 1,
   "metadata": {
    "collapsed": false
   },
   "outputs": [
    {
     "name": "stdout",
     "output_type": "stream",
     "text": [
      "2012 44930\n",
      "2008 39050\n",
      "2004 41055\n",
      "2000 39517\n",
      "1996 34787\n",
      "1992 47275\n",
      "1988 48618\n",
      "1984 47846\n",
      "1980 48204\n",
      "1976 48411\n",
      "1972 48591\n",
      "1968 78816\n",
      "1964 78861\n",
      "1960 79121\n",
      "1956 79293\n",
      "1952 79455\n",
      "1948 79419\n",
      "1944 79390\n",
      "1940 79369\n",
      "1936 79343\n",
      "1932 79326\n",
      "1928 79248\n",
      "1924 79250\n"
     ]
    }
   ],
   "source": [
    "import requests\n",
    "from bs4 import BeautifulSoup\n",
    "\n",
    "url = \"http://historical.elections.virginia.gov/elections/search/year_from:1924/year_to:2015/office_id:1/stage:General\" #\n",
    "req = requests.get(url)\n",
    "html = req.content\n",
    "soup = BeautifulSoup(html, 'html.parser')\n",
    "\n",
    "for result in soup.find_all(\"tr\", \"election_item\"):\n",
    "    year = result.find(\"td\", \"year first\").contents[0]\n",
    "    id_number = result[\"id\"].split(\"-\")[2]\n",
    "    print(year, id_number) "
   ]
  },
  {
   "cell_type": "code",
   "execution_count": 2,
   "metadata": {
    "collapsed": true
   },
   "outputs": [],
   "source": [
    "import requests\n",
    "from bs4 import BeautifulSoup\n",
    "\n",
    "url = \"http://historical.elections.virginia.gov/elections/search/year_from:1924/year_to:2015/office_id:1/stage:General\" #\n",
    "req = requests.get(url)\n",
    "html = req.content\n",
    "soup = BeautifulSoup(html, 'html.parser')\n",
    "\n",
    "with open(\"ELECTION_ID\", \"w\") as out:\n",
    "    for result in soup.find_all(\"tr\", \"election_item\"):\n",
    "        year = result.find(\"td\", \"year first\").contents[0]\n",
    "        id_number = result[\"id\"].split(\"-\")[2]\n",
    "        out.write(\"{} {}\\n\".format(id_number, year))"
   ]
  },
  {
   "cell_type": "code",
   "execution_count": 3,
   "metadata": {
    "collapsed": true
   },
   "outputs": [],
   "source": [
    "import requests\n",
    "from bs4 import BeautifulSoup\n",
    "\n",
    "url = \"http://historical.elections.virginia.gov/elections/search/year_from:1924/year_to:2015/office_id:1/stage:General\" #\n",
    "req = requests.get(url)\n",
    "html = req.content\n",
    "soup = BeautifulSoup(html, 'html.parser')\n",
    "\n",
    "with open(\"ELECTION_ID\", \"w\") as out:\n",
    "    for result in soup.find_all(\"tr\", \"election_item\"):\n",
    "        year = result.find(\"td\", \"year first\").contents[0]\n",
    "        id_number = result[\"id\"].split(\"-\")[2]\n",
    "        out.write(\"{} {}\\n\".format(year, id_number))"
   ]
  },
  {
   "cell_type": "code",
   "execution_count": null,
   "metadata": {
    "collapsed": true
   },
   "outputs": [],
   "source": []
  }
 ],
 "metadata": {
  "anaconda-cloud": {},
  "kernelspec": {
   "display_name": "Python [Root]",
   "language": "python",
   "name": "Python [Root]"
  },
  "language_info": {
   "codemirror_mode": {
    "name": "ipython",
    "version": 3
   },
   "file_extension": ".py",
   "mimetype": "text/x-python",
   "name": "python",
   "nbconvert_exporter": "python",
   "pygments_lexer": "ipython3",
   "version": "3.5.2"
  }
 },
 "nbformat": 4,
 "nbformat_minor": 0
}
